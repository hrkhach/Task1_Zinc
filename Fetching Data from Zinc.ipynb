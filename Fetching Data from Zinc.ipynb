{
 "cells": [
  {
   "cell_type": "code",
   "id": "initial_id",
   "metadata": {
    "collapsed": true,
    "ExecuteTime": {
     "end_time": "2025-07-24T09:49:03.694636Z",
     "start_time": "2025-07-24T09:49:03.687978Z"
    }
   },
   "source": [
    "from pathlib import Path\n",
    "\n",
    "import pandas as pd\n",
    "from tqdm.auto import tqdm\n",
    "from rdkit import Chem\n",
    "from rdkit.Chem import PandasTools\n",
    "from rdkit.Chem.FilterCatalog import FilterCatalog, FilterCatalogParams"
   ],
   "outputs": [],
   "execution_count": 11
  },
  {
   "metadata": {
    "ExecuteTime": {
     "end_time": "2025-07-24T09:49:05.156881Z",
     "start_time": "2025-07-24T09:49:05.152106Z"
    }
   },
   "cell_type": "code",
   "source": [
    "HERE = Path.cwd()\n",
    "DATA = HERE / \"data\""
   ],
   "id": "705329e128b87365",
   "outputs": [],
   "execution_count": 12
  },
  {
   "metadata": {},
   "cell_type": "markdown",
   "source": "DataFrame contains molecules from Zinc with molecular weight less than 200 and logP value of 2 (~500.000 molecules).",
   "id": "f47460bf94b0e6ac"
  },
  {
   "metadata": {
    "ExecuteTime": {
     "end_time": "2025-07-24T09:49:10.324200Z",
     "start_time": "2025-07-24T09:49:06.327860Z"
    }
   },
   "cell_type": "code",
   "source": [
    "zinc_data = pd.read_csv(\"all_zinc_compounds_200_2.txt\", sep=\"\\t\", names=[\"smiles\", \"zinc_id\"])\n",
    "\n",
    "print(zinc_data.head())"
   ],
   "id": "b32b42ad9fde2903",
   "outputs": [
    {
     "name": "stderr",
     "output_type": "stream",
     "text": [
      "C:\\Users\\hrach\\AppData\\Local\\Temp\\ipykernel_14116\\2843790533.py:1: DtypeWarning: Columns (1,3,4,5,6) have mixed types. Specify dtype option on import or set low_memory=False.\n",
      "  zinc_data = pd.read_csv(\"all_zinc_compounds_200_2.txt\", sep=\"\\t\", names=[\"smiles\", \"zinc_id\"])\n"
     ]
    },
    {
     "name": "stdout",
     "output_type": "stream",
     "text": [
      "                                                                                                              smiles  \\\n",
      "smiles                          zinc_id inchikey                    mwt     logp  reactive purchasable  tranche_name   \n",
      "Cc1cc(C(=O)O)nn1C(C)(C)C        128082  FCFGJNOOQYQMKY-UHFFFAOYSA-N 182.223 1.645 0        50                   ADAA   \n",
      "Cc1cc(C=O)oc1C                  153224  JPTPEPVCVXGNJM-UHFFFAOYSA-N 124.139 1.709 0        50                   ADAA   \n",
      "Oc1nc2ccc(Cl)cc2nc1O            336490  RNOLFZACEWWIHP-UHFFFAOYSA-N 196.593 1.694 0        50                   ADAA   \n",
      "CC(C)[C@@H]1C(=O)C[C@@H](C)CN1C 1296142 ALCOISCHVBFFNS-PSASIEDQSA-N 169.268 1.552 0        50                   ADAA   \n",
      "\n",
      "                                                                                                         zinc_id  \n",
      "smiles                          zinc_id inchikey                    mwt     logp  reactive purchasable  features  \n",
      "Cc1cc(C(=O)O)nn1C(C)(C)C        128082  FCFGJNOOQYQMKY-UHFFFAOYSA-N 182.223 1.645 0        50           in-vitro  \n",
      "Cc1cc(C=O)oc1C                  153224  JPTPEPVCVXGNJM-UHFFFAOYSA-N 124.139 1.709 0        50           in-vitro  \n",
      "Oc1nc2ccc(Cl)cc2nc1O            336490  RNOLFZACEWWIHP-UHFFFAOYSA-N 196.593 1.694 0        50            in-vivo  \n",
      "CC(C)[C@@H]1C(=O)C[C@@H](C)CN1C 1296142 ALCOISCHVBFFNS-PSASIEDQSA-N 169.268 1.552 0        50                NaN  \n"
     ]
    }
   ],
   "execution_count": 13
  },
  {
   "metadata": {},
   "cell_type": "markdown",
   "source": "The data types are inconsistent so lets keep the first 6 columns and drop the rest.",
   "id": "835dd31f96a87d6e"
  },
  {
   "metadata": {
    "ExecuteTime": {
     "end_time": "2025-07-24T09:49:56.142221Z",
     "start_time": "2025-07-24T09:49:54.611841Z"
    }
   },
   "cell_type": "code",
   "source": [
    "zinc_data = pd.read_csv(\n",
    "    \"all_zinc_compounds_200_2.txt\",\n",
    "    sep=\"\\t\",\n",
    "    names=[\"smiles\", \"zinc_id\", \"inchikey\", \"mwt\", \"logp\", \"reactive\"],\n",
    "    usecols=[0,1,2,3,4,5],\n",
    "    low_memory=False\n",
    ")\n",
    "\n",
    "# Remove all rows that match the header pattern\n",
    "zinc_data = zinc_data[~(zinc_data[\"smiles\"] == \"smiles\")]\n",
    "print(\"Dataframe shape\", zinc_data.shape)\n",
    "print(zinc_data.head())"
   ],
   "id": "e020f0722d38fc23",
   "outputs": [
    {
     "name": "stdout",
     "output_type": "stream",
     "text": [
      "Dataframe shape (486318, 6)\n",
      "                            smiles  zinc_id                     inchikey  \\\n",
      "1         Cc1cc(C(=O)O)nn1C(C)(C)C   128082  FCFGJNOOQYQMKY-UHFFFAOYSA-N   \n",
      "2                   Cc1cc(C=O)oc1C   153224  JPTPEPVCVXGNJM-UHFFFAOYSA-N   \n",
      "3             Oc1nc2ccc(Cl)cc2nc1O   336490  RNOLFZACEWWIHP-UHFFFAOYSA-N   \n",
      "4  CC(C)[C@@H]1C(=O)C[C@@H](C)CN1C  1296142  ALCOISCHVBFFNS-PSASIEDQSA-N   \n",
      "5             COc1cc(N(C)C)ccc1C=O  1583074  HGDRXADJVGVGBC-UHFFFAOYSA-N   \n",
      "\n",
      "       mwt   logp reactive  \n",
      "1  182.223  1.645        0  \n",
      "2  124.139  1.709        0  \n",
      "3  196.593  1.694        0  \n",
      "4  169.268  1.552        0  \n",
      "5  179.219  1.574        0  \n"
     ]
    }
   ],
   "execution_count": 15
  },
  {
   "metadata": {
    "ExecuteTime": {
     "end_time": "2025-07-24T09:50:51.053340Z",
     "start_time": "2025-07-24T09:50:03.203045Z"
    }
   },
   "cell_type": "code",
   "source": [
    "# Add molecule column\n",
    "PandasTools.AddMoleculeColumnToFrame(zinc_data, smilesCol=\"smiles\")\n",
    "# Draw first 3 molecules\n",
    "Chem.Draw.MolsToGridImage(\n",
    "    list(zinc_data.head(3).ROMol),\n",
    "    legends=list(zinc_data.head(3).zinc_id),\n",
    ")"
   ],
   "id": "76a68548e8714cd1",
   "outputs": [
    {
     "data": {
      "image/png": "[encoded data removed]",
      "text/plain": [
       "<IPython.core.display.Image object>"
      ]
     },
     "execution_count": 16,
     "metadata": {},
     "output_type": "execute_result"
    }
   ],
   "execution_count": 16
  },
  {
   "metadata": {},
   "cell_type": "markdown",
   "source": "Filter for PAINS",
   "id": "c35a5fc866cb0603"
  },
  {
   "metadata": {
    "ExecuteTime": {
     "end_time": "2025-07-24T09:53:16.720777Z",
     "start_time": "2025-07-24T09:53:16.660164Z"
    }
   },
   "cell_type": "code",
   "source": [
    "# initialize filter\n",
    "params = FilterCatalogParams()\n",
    "params.AddCatalog(FilterCatalogParams.FilterCatalogs.PAINS)\n",
    "catalog = FilterCatalog(params)"
   ],
   "id": "9a567538542c62f3",
   "outputs": [],
   "execution_count": 17
  },
  {
   "metadata": {
    "ExecuteTime": {
     "end_time": "2025-07-24T10:13:16.676571Z",
     "start_time": "2025-07-24T09:59:58.127568Z"
    }
   },
   "cell_type": "code",
   "source": [
    "# search for Pains\n",
    "matches = []\n",
    "clean = []\n",
    "for index, row in tqdm(zinc_data.iterrows(), total=zinc_data.shape[0]):\n",
    "    molecule = Chem.MolFromSmiles(row.smiles)\n",
    "    entry = catalog.GetFirstMatch(molecule)  # Get the first matching PAINS\n",
    "    if entry is not None:\n",
    "        # store PAINS information\n",
    "        matches.append(\n",
    "            {\n",
    "                \"zinc_id\": row.zinc_id,\n",
    "                \"rdkit_molecule\": molecule,\n",
    "                \"pains\": entry.GetDescription().capitalize(),\n",
    "            }\n",
    "        )\n",
    "    else:\n",
    "        # collect indices of molecules without PAINS\n",
    "        clean.append(index)\n",
    "\n",
    "matches = pd.DataFrame(matches)\n",
    "zinc_data = zinc_data.loc[clean]    # keep molecules without PAINS"
   ],
   "id": "cdd6d65850e278ae",
   "outputs": [
    {
     "name": "stderr",
     "output_type": "stream",
     "text": [
      "100%|██████████| 486318/486318 [13:18<00:00, 609.10it/s] \n"
     ]
    }
   ],
   "execution_count": 19
  },
  {
   "metadata": {
    "ExecuteTime": {
     "end_time": "2025-07-24T10:13:33.278797Z",
     "start_time": "2025-07-24T10:13:33.274879Z"
    }
   },
   "cell_type": "code",
   "source": [
    "# NBVAL_CHECK_OUTPUT\n",
    "print(f\"Number of compounds with PAINS: {len(matches)}\")\n",
    "print(f\"Number of compounds without PAINS: {len(zinc_data)}\")"
   ],
   "id": "fda5c7eeafd7ebe5",
   "outputs": [
    {
     "name": "stdout",
     "output_type": "stream",
     "text": [
      "Number of compounds with PAINS: 3570\n",
      "Number of compounds without PAINS: 482748\n"
     ]
    }
   ],
   "execution_count": 21
  },
  {
   "metadata": {},
   "cell_type": "markdown",
   "source": "The first 3 identified PAINS are:",
   "id": "7326be60ff7834f7"
  },
  {
   "metadata": {
    "ExecuteTime": {
     "end_time": "2025-07-24T10:15:09.726328Z",
     "start_time": "2025-07-24T10:15:09.708334Z"
    }
   },
   "cell_type": "code",
   "source": [
    "# Chem.Draw.MolsToGridImage(\n",
    "#     list(zinc_data.head(3).ROMol),\n",
    "#     legends=list(zinc_data.head(3)),\n",
    "# )\n",
    "zinc_data.head(3)"
   ],
   "id": "1e67725d11cbe5f8",
   "outputs": [
    {
     "data": {
      "text/plain": [
       "                     smiles zinc_id                     inchikey      mwt  \\\n",
       "1  Cc1cc(C(=O)O)nn1C(C)(C)C  128082  FCFGJNOOQYQMKY-UHFFFAOYSA-N  182.223   \n",
       "2            Cc1cc(C=O)oc1C  153224  JPTPEPVCVXGNJM-UHFFFAOYSA-N  124.139   \n",
       "3      Oc1nc2ccc(Cl)cc2nc1O  336490  RNOLFZACEWWIHP-UHFFFAOYSA-N  196.593   \n",
       "\n",
       "    logp reactive                                              ROMol  \n",
       "1  1.645        0  <rdkit.Chem.rdchem.Mol object at 0x000001F0173...  \n",
       "2  1.709        0  <rdkit.Chem.rdchem.Mol object at 0x000001F0173...  \n",
       "3  1.694        0  <rdkit.Chem.rdchem.Mol object at 0x000001F0173...  "
      ],
      "text/html": [
       "<div>\n",
       "<style scoped>\n",
       "    .dataframe tbody tr th:only-of-type {\n",
       "        vertical-align: middle;\n",
       "    }\n",
       "\n",
       "    .dataframe tbody tr th {\n",
       "        vertical-align: top;\n",
       "    }\n",
       "\n",
       "    .dataframe thead th {\n",
       "        text-align: right;\n",
       "    }\n",
       "</style>\n",
       "<table border=\"1\" class=\"dataframe\">\n",
       "  <thead>\n",
       "    <tr style=\"text-align: right;\">\n",
       "      <th></th>\n",
       "      <th>smiles</th>\n",
       "      <th>zinc_id</th>\n",
       "      <th>inchikey</th>\n",
       "      <th>mwt</th>\n",
       "      <th>logp</th>\n",
       "      <th>reactive</th>\n",
       "      <th>ROMol</th>\n",
       "    </tr>\n",
       "  </thead>\n",
       "  <tbody>\n",
       "    <tr>\n",
       "      <th>1</th>\n",
       "      <td>Cc1cc(C(=O)O)nn1C(C)(C)C</td>\n",
       "      <td>128082</td>\n",
       "      <td>FCFGJNOOQYQMKY-UHFFFAOYSA-N</td>\n",
       "      <td>182.223</td>\n",
       "      <td>1.645</td>\n",
       "      <td>0</td>\n",
       "      <td>&lt;rdkit.Chem.rdchem.Mol object at 0x000001F0173...</td>\n",
       "    </tr>\n",
       "    <tr>\n",
       "      <th>2</th>\n",
       "      <td>Cc1cc(C=O)oc1C</td>\n",
       "      <td>153224</td>\n",
       "      <td>JPTPEPVCVXGNJM-UHFFFAOYSA-N</td>\n",
       "      <td>124.139</td>\n",
       "      <td>1.709</td>\n",
       "      <td>0</td>\n",
       "      <td>&lt;rdkit.Chem.rdchem.Mol object at 0x000001F0173...</td>\n",
       "    </tr>\n",
       "    <tr>\n",
       "      <th>3</th>\n",
       "      <td>Oc1nc2ccc(Cl)cc2nc1O</td>\n",
       "      <td>336490</td>\n",
       "      <td>RNOLFZACEWWIHP-UHFFFAOYSA-N</td>\n",
       "      <td>196.593</td>\n",
       "      <td>1.694</td>\n",
       "      <td>0</td>\n",
       "      <td>&lt;rdkit.Chem.rdchem.Mol object at 0x000001F0173...</td>\n",
       "    </tr>\n",
       "  </tbody>\n",
       "</table>\n",
       "</div>"
      ]
     },
     "execution_count": 24,
     "metadata": {},
     "output_type": "execute_result"
    }
   ],
   "execution_count": 24
  },
  {
   "metadata": {},
   "cell_type": "markdown",
   "source": [
    "**Filter and highlight unwanted substructures**\n",
    "\n",
    "Some lists of unwanted substructures, like PAINS, are already implemented in RDKit. However, it is also possible to use an external list and get the substructure matches manually. Here, we use the list provided in the supporting information from Brenk et al. (Chem. Med. Chem. (2008), 3, 535-44)."
   ],
   "id": "f48f2a363c311767"
  },
  {
   "metadata": {},
   "cell_type": "markdown",
   "source": "Define Metal Elements",
   "id": "3b5a45daaa1b40cb"
  },
  {
   "metadata": {
    "ExecuteTime": {
     "end_time": "2025-07-24T10:17:36.547237Z",
     "start_time": "2025-07-24T10:17:36.542723Z"
    }
   },
   "cell_type": "code",
   "source": [
    "metal_elements = {\n",
    "    \"Li\", \"Na\", \"K\", \"Rb\", \"Cs\", \"Fr\",\n",
    "    \"Be\", \"Mg\", \"Ca\", \"Sr\", \"Ba\", \"Ra\",\n",
    "    \"Sc\", \"Y\", \"Ti\", \"Zr\", \"Hf\", \"V\", \"Nb\", \"Ta\",\n",
    "    \"Cr\", \"Mo\", \"W\", \"Mn\", \"Tc\", \"Re\",\n",
    "    \"Fe\", \"Ru\", \"Os\", \"Co\", \"Rh\", \"Ir\",\n",
    "    \"Ni\", \"Pd\", \"Pt\", \"Cu\", \"Ag\", \"Au\",\n",
    "    \"Zn\", \"Cd\", \"Hg\", \"Al\", \"Ga\", \"In\", \"Tl\",\n",
    "    \"Sn\", \"Pb\", \"Bi\"\n",
    "}"
   ],
   "id": "b63197a7db94d60b",
   "outputs": [],
   "execution_count": 25
  },
  {
   "metadata": {},
   "cell_type": "markdown",
   "source": "Implement filter function for metals",
   "id": "724d20bdee153371"
  },
  {
   "metadata": {
    "ExecuteTime": {
     "end_time": "2025-07-24T10:17:38.538807Z",
     "start_time": "2025-07-24T10:17:38.533638Z"
    }
   },
   "cell_type": "code",
   "source": [
    "def contains_metal(smiles):\n",
    "    mol = Chem.MolFromSmiles(smiles)\n",
    "    if mol is None:\n",
    "        return True\n",
    "    for atom in mol.GetAtoms():\n",
    "        if atom.GetSymbol() in metal_elements:\n",
    "            return True\n",
    "    return False"
   ],
   "id": "a7bcb9d25bc79275",
   "outputs": [],
   "execution_count": 26
  },
  {
   "metadata": {},
   "cell_type": "markdown",
   "source": "Apply to our dataframe",
   "id": "ea52ad214d72b6ce"
  },
  {
   "metadata": {
    "ExecuteTime": {
     "end_time": "2025-07-24T10:18:32.218684Z",
     "start_time": "2025-07-24T10:17:45.499596Z"
    }
   },
   "cell_type": "code",
   "source": [
    "zinc_data[\"has_metal\"] = zinc_data[\"smiles\"].apply(contains_metal)\n",
    "df_clean = zinc_data[~zinc_data[\"has_metal\"]].drop(columns=[\"has_metal\"])\n",
    "\n",
    "print(f\"Original count: {len(zinc_data)}\")\n",
    "print(f\"Filtered count (no metals): {len(df_clean)}\")"
   ],
   "id": "90a97f3febccfef0",
   "outputs": [
    {
     "name": "stdout",
     "output_type": "stream",
     "text": [
      "Original count: 482748\n",
      "Filtered count (no metals): 482738\n"
     ]
    }
   ],
   "execution_count": 27
  }
 ],
 "metadata": {
  "kernelspec": {
   "display_name": "Python 3",
   "language": "python",
   "name": "python3"
  },
  "language_info": {
   "codemirror_mode": {
    "name": "ipython",
    "version": 2
   },
   "file_extension": ".py",
   "mimetype": "text/x-python",
   "name": "python",
   "nbconvert_exporter": "python",
   "pygments_lexer": "ipython2",
   "version": "2.7.6"
  }
 },
 "nbformat": 4,
 "nbformat_minor": 5
}
